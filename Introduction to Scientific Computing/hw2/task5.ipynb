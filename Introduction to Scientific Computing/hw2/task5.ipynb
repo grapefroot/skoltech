{
 "cells": [
  {
   "cell_type": "code",
   "execution_count": 1,
   "metadata": {},
   "outputs": [],
   "source": [
    "import numpy as np\n",
    "import scipy\n",
    "from sklearn.model_selection import train_test_split"
   ]
  },
  {
   "cell_type": "code",
   "execution_count": 2,
   "metadata": {
    "collapsed": true
   },
   "outputs": [],
   "source": [
    "def rms(preds, y_val):\n",
    "    return np.sqrt(np.mean((preds - y_val)**2))"
   ]
  },
  {
   "cell_type": "code",
   "execution_count": 3,
   "metadata": {
    "collapsed": true
   },
   "outputs": [],
   "source": [
    "class RegularizedRegression:\n",
    "    def __init__(self, regularization_params=1e-2):\n",
    "        self.regularization_param = regularization_params\n",
    "        \n",
    "    \n",
    "    def train(self, X_train, y_train):\n",
    "        best_score = 9999\n",
    "        X, x, Y, y = train_test_split(X_train, y_train, test_size=0.1, random_state=42)\n",
    "        if type(self.regularization_param) == list:\n",
    "            for item in self.regularization_param:\n",
    "                weights = np.linalg.inv(np.dot(X.T, X) + item*np.eye(X.shape[1])).dot(X.T).dot(Y)\n",
    "                curr_err = rms(x.dot(weights), y)\n",
    "                if curr_err < best_score:\n",
    "                    best_score = curr_err \n",
    "                    self.regularization_param_best = item\n",
    "                    self.weights = weights\n",
    "        else:\n",
    "            self.weights = np.linalg.inv(np.dot(X_train.T, X_train) + self.regularization_param).dot(X_train.T).dot(y_train)\n",
    "                    \n",
    "    def predict(self, X_test):\n",
    "        return X_test.dot(self.weights)\n",
    "    \n",
    "    def get_score(self, X_val, y_val):\n",
    "        preds = self.predict(X_val)\n",
    "        return rms(preds, y_val)"
   ]
  },
  {
   "cell_type": "code",
   "execution_count": 4,
   "metadata": {
    "collapsed": true
   },
   "outputs": [],
   "source": [
    "import pandas as pd\n",
    "data = pd.read_csv('./data/CASP.csv')\n",
    "X_train, X_test, y_train, y_test = train_test_split(data.drop('RMSD', axis=1), data['RMSD'], train_size=330, random_state=42)"
   ]
  },
  {
   "cell_type": "code",
   "execution_count": 5,
   "metadata": {},
   "outputs": [
    {
     "name": "stdout",
     "output_type": "stream",
     "text": [
      "test error for regularized regression is 5.2597138992835735\n"
     ]
    }
   ],
   "source": [
    "model = RegularizedRegression([10, 1, 0.1, 0.01, 0.001, 0.0001])\n",
    "model.train(X_train, y_train)\n",
    "print('test error for regularized regression is {}'.format(model.get_score(X_test, y_test)))"
   ]
  },
  {
   "cell_type": "code",
   "execution_count": 6,
   "metadata": {
    "collapsed": true
   },
   "outputs": [],
   "source": [
    "from sklearn.linear_model import LinearRegression"
   ]
  },
  {
   "cell_type": "code",
   "execution_count": 7,
   "metadata": {},
   "outputs": [
    {
     "name": "stdout",
     "output_type": "stream",
     "text": [
      "test error for sklearn regression is 5.256953156344602\n"
     ]
    }
   ],
   "source": [
    "model = LinearRegression()\n",
    "model.fit(X_train, y_train)\n",
    "print('test error for sklearn regression is {}'.format(rms(model.predict(X_test), y_test)))"
   ]
  },
  {
   "cell_type": "code",
   "execution_count": 8,
   "metadata": {},
   "outputs": [],
   "source": [
    "data1 = pd.read_csv('./data/slice_localization_data.csv')\n",
    "X_train, X_test, y_train, y_test = train_test_split(data1.drop('reference', axis=1), data1['reference'], train_size=330, random_state=69)"
   ]
  },
  {
   "cell_type": "code",
   "execution_count": 9,
   "metadata": {},
   "outputs": [
    {
     "name": "stdout",
     "output_type": "stream",
     "text": [
      "test error for regularized regression is 10.604838465191966\n"
     ]
    }
   ],
   "source": [
    "model = RegularizedRegression([10, 1, 0.1, 0.01, 0.001, 0.0001])\n",
    "model.train(X_train, y_train)\n",
    "print('test error for regularized regression is {}'.format(model.get_score(X_test, y_test)))"
   ]
  },
  {
   "cell_type": "code",
   "execution_count": 10,
   "metadata": {},
   "outputs": [
    {
     "name": "stdout",
     "output_type": "stream",
     "text": [
      "test error for sklearn regression is 45.923593525667386\n"
     ]
    }
   ],
   "source": [
    "model = LinearRegression()\n",
    "model.fit(X_train, y_train)\n",
    "print('test error for sklearn regression is {}'.format(rms(model.predict(X_test), y_test)))"
   ]
  }
 ],
 "metadata": {
  "kernelspec": {
   "display_name": "Python 3",
   "language": "python",
   "name": "python3"
  },
  "language_info": {
   "codemirror_mode": {
    "name": "ipython",
    "version": 3
   },
   "file_extension": ".py",
   "mimetype": "text/x-python",
   "name": "python",
   "nbconvert_exporter": "python",
   "pygments_lexer": "ipython3",
   "version": "3.6.2"
  }
 },
 "nbformat": 4,
 "nbformat_minor": 2
}
